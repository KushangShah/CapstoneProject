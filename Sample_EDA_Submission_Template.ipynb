{
  "nbformat": 4,
  "nbformat_minor": 0,
  "metadata": {
    "colab": {
      "private_outputs": true,
      "provenance": [],
      "collapsed_sections": [
        "vncDsAP0Gaoa",
        "FJNUwmbgGyua",
        "w6K7xa23Elo4",
        "yQaldy8SH6Dl",
        "PH-0ReGfmX4f",
        "mDgbUHAGgjLW",
        "O_i_v8NEhb9l",
        "HhfV-JJviCcP",
        "Y3lxredqlCYt",
        "3RnN4peoiCZX",
        "x71ZqKXriCWQ",
        "7hBIi_osiCS2",
        "JlHwYmJAmNHm",
        "35m5QtbWiB9F",
        "PoPl-ycgm1ru",
        "H0kj-8xxnORC",
        "nA9Y7ga8ng1Z",
        "PBTbrJXOngz2",
        "u3PMJOP6ngxN",
        "dauF4eBmngu3",
        "bKJF3rekwFvQ",
        "MSa1f5Uengrz",
        "GF8Ens_Soomf",
        "0wOQAZs5pc--",
        "K5QZ13OEpz2H",
        "lQ7QKXXCp7Bj",
        "448CDAPjqfQr",
        "KSlN3yHqYklG",
        "t6dVpIINYklI",
        "ijmpgYnKYklI",
        "-JiQyfWJYklI",
        "EM7whBJCYoAo",
        "fge-S5ZAYoAp",
        "85gYPyotYoAp",
        "RoGjAbkUYoAp",
        "4Of9eVA-YrdM",
        "iky9q4vBYrdO",
        "F6T5p64dYrdO",
        "y-Ehk30pYrdP",
        "bamQiAODYuh1",
        "QHF8YVU7Yuh3",
        "GwzvFGzlYuh3",
        "qYpmQ266Yuh3",
        "OH-pJp9IphqM",
        "bbFf2-_FphqN",
        "_ouA3fa0phqN",
        "Seke61FWphqN",
        "PIIx-8_IphqN",
        "t27r6nlMphqO",
        "r2jJGEOYphqO",
        "b0JNsNcRphqO",
        "BZR9WyysphqO",
        "jj7wYXLtphqO",
        "eZrbJ2SmphqO",
        "rFu4xreNphqO",
        "YJ55k-q6phqO",
        "gCFgpxoyphqP",
        "OVtJsKN_phqQ",
        "lssrdh5qphqQ",
        "U2RJ9gkRphqQ",
        "1M8mcRywphqQ",
        "tgIPom80phqQ",
        "JMzcOPDDphqR",
        "x-EpHcCOp1ci",
        "X_VqEhTip1ck",
        "8zGJKyg5p1ck",
        "PVzmfK_Ep1ck",
        "n3dbpmDWp1ck",
        "ylSl6qgtp1ck",
        "ZWILFDl5p1ck",
        "M7G43BXep1ck",
        "Ag9LCva-p1cl",
        "E6MkPsBcp1cl",
        "2cELzS2fp1cl",
        "3MPXvC8up1cl",
        "NC_X3p0fY2L0",
        "UV0SzAkaZNRQ",
        "YPEH6qLeZNRQ",
        "q29F0dvdveiT",
        "EXh0U9oCveiU",
        "22aHeOlLveiV",
        "JcMwzZxoAimU",
        "8G2x9gOozGDZ",
        "gCX9965dhzqZ",
        "gIfDvo9L0UH2"
      ],
      "include_colab_link": true
    },
    "kernelspec": {
      "name": "python3",
      "display_name": "Python 3"
    },
    "language_info": {
      "name": "python"
    }
  },
  "cells": [
    {
      "cell_type": "markdown",
      "metadata": {
        "id": "view-in-github",
        "colab_type": "text"
      },
      "source": [
        "<a href=\"https://colab.research.google.com/github/KushangShah/CapstoneProject/blob/main/Sample_EDA_Submission_Template.ipynb\" target=\"_parent\"><img src=\"https://colab.research.google.com/assets/colab-badge.svg\" alt=\"Open In Colab\"/></a>"
      ]
    },
    {
      "cell_type": "markdown",
      "source": [
        "# **Project Name**    -\n",
        "\n"
      ],
      "metadata": {
        "id": "vncDsAP0Gaoa"
      }
    },
    {
      "cell_type": "markdown",
      "source": [
        "##### **Project Type**    - EDA/Regression/Classification/Unsupervised\n",
        "##### **Contribution**    - Kushang Shah(Individual)\n"
      ],
      "metadata": {
        "id": "beRrZCGUAJYm"
      }
    },
    {
      "cell_type": "markdown",
      "source": [
        "# **Project Summary -**"
      ],
      "metadata": {
        "id": "FJNUwmbgGyua"
      }
    },
    {
      "cell_type": "markdown",
      "source": [
        "Title: Exploratory Data Analysis of Airbnb Dataset: Unveiling Insights for Optimal Stays\n",
        "\n",
        "Introduction:\n",
        "This project aimed to perform an in-depth exploratory data analysis (EDA) on a comprehensive Airbnb dataset. The dataset consisted of 48,895 entries, each containing 16 informative columns, such as listing details, host information, location attributes, pricing, and reviews. By analyzing this dataset, we sought to unravel key insights and patterns that could enhance the understanding of Airbnb listings and facilitate better decision-making for both hosts and guests.\n",
        "\n",
        "Data Loading and Understanding\n",
        "The initial step involved loading the dataset into a Pandas dataframe, enabling us to explore its structure and familiarize ourselves with the variables. Through this process, we gained valuable knowledge about the dataset's size, column types, and potential areas for analysis.\n",
        "\n",
        "Data Cleaning for Accurate Analysis\n",
        "Data cleaning is crucial for maintaining data integrity and ensuring accurate analysis. We addressed missing values by implementing appropriate strategies, either through imputation or by removing rows/columns with excessive missing data. Furthermore, we conducted a thorough examination for duplicate entries, efficiently eliminating any redundancies in the dataset.\n",
        "\n",
        "Descriptive Statistics: Unveiling Central Tendencies and Variability\n",
        "To gain a comprehensive understanding of the dataset, we computed descriptive statistics for numerical columns, such as price, minimum nights, and number of reviews. By calculating measures like mean, median, minimum, maximum, and quartiles, we obtained a clear picture of the dataset's central tendencies and variability. Concurrently, we explored the frequency distribution of categorical variables, shedding light on the distribution of different categories within the dataset.\n",
        "\n",
        "Data Visualization: Unleashing Patterns and Trends\n",
        "Data visualization is a powerful tool that enables us to uncover hidden patterns and trends. Through various visualizations, including histograms, bar charts, scatter plots, and heatmaps, we embarked on a journey to explore relationships between variables and identify noteworthy insights. For instance, visualizations helped us analyze the distribution of prices across different neighborhoods and room types, ultimately enabling us to discern any spatial trends or disparities.\n",
        "\n",
        "Feature Engineering: Augmenting Analysis Dimensions\n",
        "To enrich our analysis, we delved into feature engineering. This process involved creating new features or modifying existing ones to extract more meaningful insights. By deriving additional features, such as the host's average reviews per month or the host's total listings, we were able to uncover fresh dimensions of analysis that provided richer context and enhanced our understanding of the dataset.\n",
        "\n",
        "Correlation Analysis: Discovering Relationships\n",
        "Correlation analysis was instrumental in identifying relationships between variables. By calculating correlation coefficients and visualizing them through a correlation matrix, we unraveled significant correlations that offered valuable insights. This analysis allowed us to identify factors that potentially influence pricing or impact the number of reviews, thereby empowering hosts and guests with crucial information for their decision-making processes.\n",
        "\n",
        "Temporal Analysis: Unveiling Trends Over Time\n",
        "The dataset contained temporal information, such as the last review date. Through temporal analysis, we explored trends over time, seasonal patterns, and any changes in host activity or reviews. This analysis provided valuable insights into the dynamic nature of Airbnb listings and revealed temporal factors that may influence bookings or reviews.\n",
        "\n",
        "Conclusion:\n",
        "In conclusion, this project's comprehensive exploratory data analysis of the Airbnb dataset has successfully unveiled key insights and patterns. By following a systematic approach that encompassed data loading, cleaning, descriptive statistics, data visualization, feature engineering, correlation analysis, and temporal analysis, we gained a profound understanding of the dataset's nuances. The analysis yielded actionable insights for hosts to optimize their listings and for guests to make informed decisions when booking stays. Ultimately, this project underscores the significance of EDA in extracting meaningful insights from data"
      ],
      "metadata": {
        "id": "F6v_1wHtG2nS"
      }
    },
    {
      "cell_type": "markdown",
      "source": [
        "# **GitHub Link -**"
      ],
      "metadata": {
        "id": "w6K7xa23Elo4"
      }
    },
    {
      "cell_type": "markdown",
      "source": [
        "https://github.com/KushangShah"
      ],
      "metadata": {
        "id": "h1o69JH3Eqqn"
      }
    },
    {
      "cell_type": "markdown",
      "source": [
        "# **Problem Statement**\n"
      ],
      "metadata": {
        "id": "yQaldy8SH6Dl"
      }
    },
    {
      "cell_type": "markdown",
      "source": [
        "The goal of this project is to analyze the Airbnb dataset and address the following problem:\n",
        "\n",
        "\"How can we gain insights into the factors influencing the pricing and availability of Airbnb listings in a specific location?\"\n",
        "\n",
        "Key Components of the Problem Statement:\n",
        "\n",
        "1. Pricing Analysis: Identify the factors that significantly impact the pricing of Airbnb listings, such as room type, location, host characteristics, and amenities. Determine the extent to which each factor contributes to pricing variations.\n",
        "\n",
        "2. Availability Analysis: Investigate the factors affecting the availability of Airbnb listings throughout the year. Analyze seasonal patterns, identify periods of high and low availability, and explore potential correlations between availability and pricing.\n",
        "\n",
        "3. Location Influence: Examine the influence of specific neighborhoods or neighborhood groups on pricing and availability. Determine whether certain locations have higher demand or are associated with higher prices.\n",
        "\n",
        "4. Host Impact: Evaluate the impact of host characteristics, such as the number of listings they manage and their hosting history, on pricing and availability. Assess whether experienced or highly-rated hosts tend to charge more or have better availability.\n",
        "\n",
        "5. Recommendations: Based on the analysis, provide recommendations for both hosts and potential guests. Suggest strategies for hosts to optimize pricing and improve availability based on the identified influential factors. Offer insights for guests to find suitable listings based on pricing and availability patterns.\n",
        "\n",
        "By addressing this problem, we aim to provide valuable insights and recommendations to both hosts and guests in the Airbnb ecosystem, enabling them to make informed decisions and optimize their experience on the platform."
      ],
      "metadata": {
        "id": "DpeJGUA3kjGy"
      }
    },
    {
      "cell_type": "markdown",
      "source": [
        "#### **Define Your Business Objective?**"
      ],
      "metadata": {
        "id": "PH-0ReGfmX4f"
      }
    },
    {
      "cell_type": "markdown",
      "source": [
        "The primary business objective related to the Airbnb dataset analysis is to maximize the revenue and utilization of Airbnb listings by understanding the factors influencing pricing and availability. This involves:\n",
        "\n",
        "1. Optimizing Pricing Strategy: Gain insights into the key factors affecting pricing variations for Airbnb listings. By identifying the most influential factors, hosts can strategically set competitive prices to attract guests while maximizing their revenue.\n",
        "\n",
        "2. Enhancing Listing Availability: Understand the factors impacting the availability of listings throughout the year. By analyzing seasonal patterns and demand fluctuations, hosts can optimize their listing availability to ensure maximum utilization and minimize periods of low occupancy.\n",
        "\n",
        "3. Improving Guest Experience: Provide valuable insights and recommendations to potential guests regarding suitable listings based on pricing and availability. Enhancing the guest experience contributes to positive reviews, increased bookings, and potentially higher revenue for hosts.\n",
        "\n",
        "4. Supporting Business Decisions: The analysis of the Airbnb dataset can help inform strategic business decisions related to expansion, investment, and resource allocation. Understanding the market dynamics and influential factors can guide decision-makers in making informed choices to optimize business outcomes.\n",
        "\n",
        "Ultimately, the business objective is to drive profitability, increase occupancy rates, and improve customer satisfaction within the Airbnb ecosystem by leveraging data-driven insights and recommendations."
      ],
      "metadata": {
        "id": "PhDvGCAqmjP1"
      }
    },
    {
      "cell_type": "markdown",
      "source": [
        "# **General Guidelines** : -  "
      ],
      "metadata": {
        "id": "mDgbUHAGgjLW"
      }
    },
    {
      "cell_type": "markdown",
      "source": [
        "1.   Well-structured, formatted, and commented code is required.\n",
        "2.   Exception Handling, Production Grade Code & Deployment Ready Code will be a plus. Those students will be awarded some additional credits.\n",
        "     \n",
        "     The additional credits will have advantages over other students during Star Student selection.\n",
        "       \n",
        "             [ Note: - Deployment Ready Code is defined as, the whole .ipynb notebook should be executable in one go\n",
        "                       without a single error logged. ]\n",
        "\n",
        "3.   Each and every logic should have proper comments.\n",
        "4. You may add as many number of charts you want. Make Sure for each and every chart the following format should be answered.\n",
        "        \n",
        "\n",
        "```\n",
        "# Chart visualization code\n",
        "```\n",
        "            \n",
        "\n",
        "*   Why did you pick the specific chart?\n",
        "*   What is/are the insight(s) found from the chart?\n",
        "* Will the gained insights help creating a positive business impact?\n",
        "Are there any insights that lead to negative growth? Justify with specific reason.\n",
        "\n",
        "5. You have to create at least 20 logical & meaningful charts having important insights.\n",
        "\n",
        "\n",
        "[ Hints : - Do the Vizualization in  a structured way while following \"UBM\" Rule.\n",
        "\n",
        "U - Univariate Analysis,\n",
        "\n",
        "B - Bivariate Analysis (Numerical - Categorical, Numerical - Numerical, Categorical - Categorical)\n",
        "\n",
        "M - Multivariate Analysis\n",
        " ]\n",
        "\n",
        "\n",
        "\n"
      ],
      "metadata": {
        "id": "ZrxVaUj-hHfC"
      }
    },
    {
      "cell_type": "markdown",
      "source": [
        "# ***Let's Begin !***"
      ],
      "metadata": {
        "id": "O_i_v8NEhb9l"
      }
    },
    {
      "cell_type": "markdown",
      "source": [
        "## ***1. Know Your Data***"
      ],
      "metadata": {
        "id": "HhfV-JJviCcP"
      }
    },
    {
      "cell_type": "markdown",
      "source": [
        "### Import Libraries"
      ],
      "metadata": {
        "id": "Y3lxredqlCYt"
      }
    },
    {
      "cell_type": "code",
      "source": [
        "# Import Libraries\n",
        "import numpy as np\n",
        "import pandas as pd\n",
        "import matplotlib.pyplot as plt\n",
        "import seaborn as sns"
      ],
      "metadata": {
        "id": "M8Vqi-pPk-HR"
      },
      "execution_count": null,
      "outputs": []
    },
    {
      "cell_type": "markdown",
      "source": [
        "### Dataset Loading"
      ],
      "metadata": {
        "id": "3RnN4peoiCZX"
      }
    },
    {
      "cell_type": "code",
      "source": [
        "# Load Dataset\n",
        "from google.colab import drive\n",
        "drive.mount('/content/drive')"
      ],
      "metadata": {
        "id": "4CkvbW_SlZ_R"
      },
      "execution_count": null,
      "outputs": []
    },
    {
      "cell_type": "markdown",
      "source": [
        "### Dataset First View"
      ],
      "metadata": {
        "id": "x71ZqKXriCWQ"
      }
    },
    {
      "cell_type": "code",
      "source": [
        "# Dataset First Look\n",
        "airbnb_df=pd.read_csv('/content/drive/MyDrive/CSV files/Airbnb NYC 2019.csv')\n",
        "airbnb_df"
      ],
      "metadata": {
        "id": "LWNFOSvLl09H"
      },
      "execution_count": null,
      "outputs": []
    },
    {
      "cell_type": "markdown",
      "source": [
        "### Dataset Rows & Columns count"
      ],
      "metadata": {
        "id": "7hBIi_osiCS2"
      }
    },
    {
      "cell_type": "code",
      "source": [
        "# Dataset Rows & Columns count\n",
        "airbnb_df.shape"
      ],
      "metadata": {
        "id": "Kllu7SJgmLij"
      },
      "execution_count": null,
      "outputs": []
    },
    {
      "cell_type": "markdown",
      "source": [
        "### Dataset Information"
      ],
      "metadata": {
        "id": "JlHwYmJAmNHm"
      }
    },
    {
      "cell_type": "code",
      "source": [
        "# Dataset Info\n",
        "airbnb_df.info()"
      ],
      "metadata": {
        "id": "e9hRXRi6meOf"
      },
      "execution_count": null,
      "outputs": []
    },
    {
      "cell_type": "markdown",
      "source": [
        "#### Duplicate Values"
      ],
      "metadata": {
        "id": "35m5QtbWiB9F"
      }
    },
    {
      "cell_type": "code",
      "source": [
        "# Dataset Duplicate Value Count\n",
        "airbnb_df[airbnb_df.duplicated()].count()"
      ],
      "metadata": {
        "id": "1sLdpKYkmox0"
      },
      "execution_count": null,
      "outputs": []
    },
    {
      "cell_type": "markdown",
      "source": [
        "#### Missing Values/Null Values"
      ],
      "metadata": {
        "id": "PoPl-ycgm1ru"
      }
    },
    {
      "cell_type": "code",
      "source": [
        "# Missing Values/Null Values Count\n",
        "miss_value = airbnb_df.isna()\n",
        "miss_value.sum()"
      ],
      "metadata": {
        "id": "GgHWkxvamxVg"
      },
      "execution_count": null,
      "outputs": []
    },
    {
      "cell_type": "code",
      "source": [
        "# Visualizing the missing values\n",
        "import missingno as ms\n",
        "ms.matrix(airbnb_df)\n",
        "plt.show"
      ],
      "metadata": {
        "id": "3q5wnI3om9sJ"
      },
      "execution_count": null,
      "outputs": []
    },
    {
      "cell_type": "markdown",
      "source": [
        "### What did you know about your dataset?"
      ],
      "metadata": {
        "id": "H0kj-8xxnORC"
      }
    },
    {
      "cell_type": "markdown",
      "source": [
        "Airbnb datasets typically contain information about properties listed on the Airbnb platform, including various attributes and features associated with each listing. Some common fields that might be present in an Airbnb dataset include:  \n",
        "ID: A unique identifier for each listing.\n",
        "\n",
        "Name: The title or name of the listing.\n",
        "\n",
        "Host ID: A unique identifier for the host of the listing.\n",
        "\n",
        "Host Name: The name of the host.\n",
        "\n",
        "Neighbourhood Group: The group or category of the neighborhood where the listing is located.\n",
        "\n",
        "Neighbourhood: The specific neighborhood where the listing is situated.\n",
        "\n",
        "Latitude: The latitude coordinates of the listing's location.\n",
        "\n",
        "Longitude: The longitude coordinates of the listing's location.\n",
        "\n",
        "Room Type: The type of room or accommodation being offered (e.g., entire home/apartment, private room, shared room).\n",
        "\n",
        "Price: The price per night for the listing.\n",
        "\n",
        "Minimum Nights: The minimum number of nights required to book the listing.\n",
        "\n",
        "Number of Reviews: The total number of reviews received for the listing.\n",
        "\n",
        "Last Review: The date of the last review for the listing.\n",
        "\n",
        "Reviews per Month: The average number of reviews per month for the listing.\n",
        "\n",
        "Calculated Host Listings Count: The total number of listings managed by the host.\n",
        "\n",
        "Availability 365: The number of days the listing is available for booking within a year"
      ],
      "metadata": {
        "id": "gfoNAAC-nUe_"
      }
    },
    {
      "cell_type": "markdown",
      "source": [
        "## ***2. Understanding Your Variables***"
      ],
      "metadata": {
        "id": "nA9Y7ga8ng1Z"
      }
    },
    {
      "cell_type": "code",
      "source": [
        "# Dataset Columns\n",
        "airbnb_df.columns"
      ],
      "metadata": {
        "id": "j7xfkqrt5Ag5"
      },
      "execution_count": null,
      "outputs": []
    },
    {
      "cell_type": "code",
      "source": [
        "# Dataset Describe\n",
        "airbnb_df.describe()"
      ],
      "metadata": {
        "id": "DnOaZdaE5Q5t"
      },
      "execution_count": null,
      "outputs": []
    },
    {
      "cell_type": "markdown",
      "source": [
        "### Variables Description"
      ],
      "metadata": {
        "id": "PBTbrJXOngz2"
      }
    },
    {
      "cell_type": "markdown",
      "source": [
        "1. **ID:** Unique listing identifier.\n",
        "\n",
        "2. **Name:** Title or brief description of the listing.\n",
        "\n",
        "3. **Host ID:** Unique identifier for the listing's host.\n",
        "\n",
        "4. **Host Name:** Name of the host managing the listing.\n",
        "\n",
        "5. **Neighbourhood Group:** Categorization of the neighborhood.\n",
        "\n",
        "6. **Neighbourhood:** Specific location or area of the listing.\n",
        "\n",
        "7. **Latitude/Longitude:** Geographic coordinates of the listing.\n",
        "\n",
        "8. **Room Type:** Type of accommodation (e.g., entire home, private room).\n",
        "\n",
        "9. **Price:** Cost per night for booking.\n",
        "\n",
        "10. **Minimum Nights:** Minimum required nights for booking.\n",
        "\n",
        "11. **Number of Reviews:** Cumulative count of reviews received.\n",
        "\n",
        "12. **Last Review:** Date of the most recent review.\n",
        "\n",
        "13. **Reviews per Month:** Average monthly review count.\n",
        "\n",
        "14. **Calculated Host Listings Count:** Total number of listings managed by the host.\n",
        "\n",
        "15. **Availability 365:** Number of days the listing is available in a year."
      ],
      "metadata": {
        "id": "aJV4KIxSnxay"
      }
    },
    {
      "cell_type": "markdown",
      "source": [
        "### Check Unique Values for each variable."
      ],
      "metadata": {
        "id": "u3PMJOP6ngxN"
      }
    },
    {
      "cell_type": "code",
      "source": [
        "# Check Unique Values for each variable.\n",
        "airbnb_df.columns"
      ],
      "metadata": {
        "id": "zms12Yq5n-jE"
      },
      "execution_count": null,
      "outputs": []
    },
    {
      "cell_type": "code",
      "source": [
        "# ID\n",
        "unique_ids = airbnb_df['id'].nunique()\n",
        "print(\"Number of unique IDs:\", unique_ids)"
      ],
      "metadata": {
        "id": "-VWfHOOr_11S"
      },
      "execution_count": null,
      "outputs": []
    },
    {
      "cell_type": "code",
      "source": [
        "# Name\n",
        "unique_names = airbnb_df['name'].nunique()\n",
        "print(\"Unique names:\", unique_names)"
      ],
      "metadata": {
        "id": "KnfcZhG7_2nU"
      },
      "execution_count": null,
      "outputs": []
    },
    {
      "cell_type": "code",
      "source": [
        "# Host ID\n",
        "unique_host_ids = airbnb_df['host_id'].nunique()\n",
        "print(\"Number of unique host IDs:\", unique_host_ids)"
      ],
      "metadata": {
        "id": "l8erSRyb_228"
      },
      "execution_count": null,
      "outputs": []
    },
    {
      "cell_type": "code",
      "source": [
        "# Host Name\n",
        "unique_host_names = airbnb_df['host_name'].nunique()\n",
        "print(\"Unique host names:\", unique_host_names)"
      ],
      "metadata": {
        "id": "u5KMOJ_M_3D3"
      },
      "execution_count": null,
      "outputs": []
    },
    {
      "cell_type": "code",
      "source": [
        "# Neighbourhood Group\n",
        "unique_neighbourhood_groups = airbnb_df['neighbourhood_group'].nunique()\n",
        "print(\"Unique neighbourhood groups:\", unique_neighbourhood_groups)"
      ],
      "metadata": {
        "id": "e0RZPMN1_3Nb"
      },
      "execution_count": null,
      "outputs": []
    },
    {
      "cell_type": "code",
      "source": [
        "# Neighbourhood\n",
        "unique_neighbourhoods = airbnb_df['neighbourhood'].nunique()\n",
        "print(\"Unique neighbourhoods:\", unique_neighbourhoods)"
      ],
      "metadata": {
        "id": "udy8Y-Nl_3Vo"
      },
      "execution_count": null,
      "outputs": []
    },
    {
      "cell_type": "code",
      "source": [
        "# Latitude\n",
        "unique_latitudes = airbnb_df['latitude'].nunique()\n",
        "print(\"Unique latitudes:\", unique_latitudes)"
      ],
      "metadata": {
        "id": "1FYaUjr1_3dn"
      },
      "execution_count": null,
      "outputs": []
    },
    {
      "cell_type": "code",
      "source": [
        "# Longitude\n",
        "unique_longitudes = airbnb_df['longitude'].nunique()\n",
        "print(\"Unique longitudes:\", unique_longitudes)"
      ],
      "metadata": {
        "id": "N95bRvA6_3k4"
      },
      "execution_count": null,
      "outputs": []
    },
    {
      "cell_type": "code",
      "source": [
        "# Room Type\n",
        "unique_room_types = airbnb_df['room_type'].nunique()\n",
        "print(\"Unique room types:\", unique_room_types)"
      ],
      "metadata": {
        "id": "Kcq_dxIt_3rx"
      },
      "execution_count": null,
      "outputs": []
    },
    {
      "cell_type": "code",
      "source": [
        "# Price\n",
        "unique_prices = airbnb_df['price'].nunique()\n",
        "print(\"Unique prices:\", unique_prices)"
      ],
      "metadata": {
        "id": "dSYba_G9Abto"
      },
      "execution_count": null,
      "outputs": []
    },
    {
      "cell_type": "code",
      "source": [
        "# Minimum Nights\n",
        "unique_min_nights = airbnb_df['minimum_nights'].nunique()\n",
        "print(\"Unique minimum nights:\", unique_min_nights)\n"
      ],
      "metadata": {
        "id": "sAf9PDbHAb43"
      },
      "execution_count": null,
      "outputs": []
    },
    {
      "cell_type": "code",
      "source": [
        "# Number of Reviews\n",
        "unique_num_reviews = airbnb_df['number_of_reviews'].nunique()\n",
        "print(\"Unique number of reviews:\", unique_num_reviews)"
      ],
      "metadata": {
        "id": "ueCEWOxuAcEe"
      },
      "execution_count": null,
      "outputs": []
    },
    {
      "cell_type": "code",
      "source": [
        "# Last Review\n",
        "unique_last_reviews = airbnb_df['last_review'].nunique()\n",
        "print(\"Unique last reviews:\", unique_last_reviews)"
      ],
      "metadata": {
        "id": "41fCDclqAcPa"
      },
      "execution_count": null,
      "outputs": []
    },
    {
      "cell_type": "code",
      "source": [
        "# Reviews per Month\n",
        "unique_reviews_per_month = airbnb_df['reviews_per_month'].nunique()\n",
        "print(\"Unique reviews per month:\", unique_reviews_per_month)"
      ],
      "metadata": {
        "id": "Ab57Tn3nAdb2"
      },
      "execution_count": null,
      "outputs": []
    },
    {
      "cell_type": "code",
      "source": [
        "# Calculated Host Listings Count\n",
        "unique_host_listings_count = airbnb_df['calculated_host_listings_count'].nunique()\n",
        "print(\"Unique calculated host listings count:\", unique_host_listings_count)"
      ],
      "metadata": {
        "id": "rMWp5k2_AdlY"
      },
      "execution_count": null,
      "outputs": []
    },
    {
      "cell_type": "code",
      "source": [
        "# Availability 365\n",
        "unique_availabilities = airbnb_df['availability_365'].nunique()\n",
        "print(\"Unique availabilities:\", unique_availabilities)"
      ],
      "metadata": {
        "id": "u01XZCy_AdvC"
      },
      "execution_count": null,
      "outputs": []
    },
    {
      "cell_type": "markdown",
      "source": [
        "## 3. ***Data Wrangling***"
      ],
      "metadata": {
        "id": "dauF4eBmngu3"
      }
    },
    {
      "cell_type": "markdown",
      "source": [
        "### Data Wrangling Code"
      ],
      "metadata": {
        "id": "bKJF3rekwFvQ"
      }
    },
    {
      "cell_type": "code",
      "source": [
        "# Write your code to make your dataset analysis ready.\n",
        "airbnb_df.info()"
      ],
      "metadata": {
        "id": "wk-9a2fpoLcV"
      },
      "execution_count": null,
      "outputs": []
    },
    {
      "cell_type": "code",
      "source": [
        "airbnb_df = airbnb_df.drop(columns=['host_id', 'host_name'],axis=1)"
      ],
      "metadata": {
        "id": "an_FCMg-BG0R"
      },
      "execution_count": null,
      "outputs": []
    },
    {
      "cell_type": "code",
      "source": [
        "airbnb_df['availability_365'].value_counts()"
      ],
      "metadata": {
        "id": "B4lUVXlKBG_f"
      },
      "execution_count": null,
      "outputs": []
    },
    {
      "cell_type": "code",
      "source": [
        "# replacing 0 with unknown in availability\n",
        "airbnb_df['availability_365'] = airbnb_df['availability_365'].replace(0, 'Unknown')\n",
        "\n",
        "# output\n",
        "airbnb_df['availability_365'].value_counts()"
      ],
      "metadata": {
        "id": "kD3X9nOZBHKj"
      },
      "execution_count": null,
      "outputs": []
    },
    {
      "cell_type": "markdown",
      "source": [
        "### What all manipulations have you done and insights you found?"
      ],
      "metadata": {
        "id": "MSa1f5Uengrz"
      }
    },
    {
      "cell_type": "markdown",
      "source": [
        "1. **Dropping Columns:**\n",
        "   - **Description:** Removed 'host_id' and 'host_name' columns from `airbnb_df`.\n",
        "   - **Insights:** Enhances focus on relevant aspects, simplifies analysis by reducing dimensionality.\n",
        "\n",
        "2. **Replacing 0 with 'Unknown':**\n",
        "   - **Description:** Replaced 0 in 'availability_365' with 'Unknown' using `replace()` function.\n",
        "   - **Insights:** Provides a descriptive label for listings with 0 availability, aiding in differentiation and potential analysis.\n",
        "\n",
        "3. **Checking Updated Value Counts:**\n",
        "   - **Description:** Checked updated value counts of 'availability_365' after replacement.\n",
        "   - **Insights:** Examining distribution, identifying patterns, and understanding frequency of different availability periods in the dataset."
      ],
      "metadata": {
        "id": "LbyXE7I1olp8"
      }
    },
    {
      "cell_type": "markdown",
      "source": [
        "## ***4. Data Vizualization, Storytelling & Experimenting with charts : Understand the relationships between variables***"
      ],
      "metadata": {
        "id": "GF8Ens_Soomf"
      }
    },
    {
      "cell_type": "code",
      "source": [
        "airbnb_df.corr()"
      ],
      "metadata": {
        "id": "t0-R9CaigO45"
      },
      "execution_count": null,
      "outputs": []
    },
    {
      "cell_type": "markdown",
      "source": [
        "#### Chart - 1"
      ],
      "metadata": {
        "id": "0wOQAZs5pc--"
      }
    },
    {
      "cell_type": "code",
      "source": [
        "# Chart - 1 visualization code\n",
        "\n",
        "# creating bar graph\n",
        "g = airbnb_df['neighbourhood_group'].value_counts().plot(kind='bar')\n",
        "g.set_title('Distribution of listings By Neighbourhood Group')\n",
        "g.set_xlabel('Neighbourhood Group')\n",
        "g.set_ylabel('Count')\n",
        "plt.show()"
      ],
      "metadata": {
        "id": "7v_ESjsspbW7"
      },
      "execution_count": null,
      "outputs": []
    },
    {
      "cell_type": "markdown",
      "source": [
        "##### 1. Why did you pick the specific chart?"
      ],
      "metadata": {
        "id": "K5QZ13OEpz2H"
      }
    },
    {
      "cell_type": "markdown",
      "source": [
        "So that i can visualize the distribution listings across different neighbourhood group"
      ],
      "metadata": {
        "id": "XESiWehPqBRc"
      }
    },
    {
      "cell_type": "markdown",
      "source": [
        "##### 2. What is/are the insight(s) found from the chart?"
      ],
      "metadata": {
        "id": "lQ7QKXXCp7Bj"
      }
    },
    {
      "cell_type": "markdown",
      "source": [
        "Identify which neighbourhood groups have the highest number of listings, which can help in targeting specific areas for business opportunities."
      ],
      "metadata": {
        "id": "C_j1G7yiqdRP"
      }
    },
    {
      "cell_type": "markdown",
      "source": [
        "##### 3. Will the gained insights help creating a positive business impact?\n",
        "Are there any insights that lead to negative growth? Justify with specific reason."
      ],
      "metadata": {
        "id": "448CDAPjqfQr"
      }
    },
    {
      "cell_type": "markdown",
      "source": [
        "Yes, we are able to find positive impact so bases on the result we can focus on that neighbourhood group."
      ],
      "metadata": {
        "id": "3cspy4FjqxJW"
      }
    },
    {
      "cell_type": "markdown",
      "source": [
        "#### Chart - 2"
      ],
      "metadata": {
        "id": "KSlN3yHqYklG"
      }
    },
    {
      "cell_type": "code",
      "source": [
        "# Chart - 2 visualization code\n",
        "\n",
        "# creating pie chart\n",
        "pie = airbnb_df['room_type'].value_counts().plot(kind='pie', autopct='%1.1f%%')\n",
        "pie.set_title('room type distribution')\n",
        "#pie.set_xlabel('')\n",
        "pie.set_ylabel('')\n",
        "plt.show()"
      ],
      "metadata": {
        "id": "R4YgtaqtYklH"
      },
      "execution_count": null,
      "outputs": []
    },
    {
      "cell_type": "markdown",
      "source": [
        "##### 1. Why did you pick the specific chart?"
      ],
      "metadata": {
        "id": "t6dVpIINYklI"
      }
    },
    {
      "cell_type": "markdown",
      "source": [
        "To show the proportion of each room tyoe in the dataset."
      ],
      "metadata": {
        "id": "5aaW0BYyYklI"
      }
    },
    {
      "cell_type": "markdown",
      "source": [
        "##### 2. What is/are the insight(s) found from the chart?"
      ],
      "metadata": {
        "id": "ijmpgYnKYklI"
      }
    },
    {
      "cell_type": "markdown",
      "source": [
        "Determine the common room type available, Which can inform Business decisions on property investments or marketing strategies."
      ],
      "metadata": {
        "id": "PSx9atu2YklI"
      }
    },
    {
      "cell_type": "markdown",
      "source": [
        "##### 3. Will the gained insights help creating a positive business impact?\n",
        "Are there any insights that lead to negative growth? Justify with specific reason."
      ],
      "metadata": {
        "id": "-JiQyfWJYklI"
      }
    },
    {
      "cell_type": "markdown",
      "source": [
        "Insights from the Airbnb dataset indicate a positive business impact through high demand for entire homes/apartments and private rooms. However, the limited demand for shared rooms suggests potential challenges and slower growth for hosts in that category. Additional factors like pricing and customer preferences should be considered for informed decision-making."
      ],
      "metadata": {
        "id": "BcBbebzrYklV"
      }
    },
    {
      "cell_type": "markdown",
      "source": [
        "#### Chart - 3"
      ],
      "metadata": {
        "id": "EM7whBJCYoAo"
      }
    },
    {
      "cell_type": "code",
      "source": [
        "# Chart - 3 visualization code\n",
        "\n",
        "# creating histogram\n",
        "plt.figure(figsize=(10,6))\n",
        "plt.hist(airbnb_df['price'])\n",
        "plt.title('Price Distribution')\n",
        "plt.xlabel('Price')\n",
        "plt.ylabel('Frequency')\n",
        "plt.show()"
      ],
      "metadata": {
        "id": "t6GMdE67YoAp"
      },
      "execution_count": null,
      "outputs": []
    },
    {
      "cell_type": "markdown",
      "source": [
        "##### 1. Why did you pick the specific chart?"
      ],
      "metadata": {
        "id": "fge-S5ZAYoAp"
      }
    },
    {
      "cell_type": "markdown",
      "source": [
        "To see the distribution of listing price"
      ],
      "metadata": {
        "id": "5dBItgRVYoAp"
      }
    },
    {
      "cell_type": "markdown",
      "source": [
        "##### 2. What is/are the insight(s) found from the chart?"
      ],
      "metadata": {
        "id": "85gYPyotYoAp"
      }
    },
    {
      "cell_type": "markdown",
      "source": [
        "Understand the price range of listings and identify any outliers."
      ],
      "metadata": {
        "id": "4jstXR6OYoAp"
      }
    },
    {
      "cell_type": "markdown",
      "source": [
        "##### 3. Will the gained insights help creating a positive business impact?\n",
        "Are there any insights that lead to negative growth? Justify with specific reason."
      ],
      "metadata": {
        "id": "RoGjAbkUYoAp"
      }
    },
    {
      "cell_type": "markdown",
      "source": [
        "The Airbnb dataset can help create a positive business impact by identifying popular price ranges and optimizing pricing strategies. Overpriced listings and limited availability in affordable ranges may lead to negative growth and should be addressed."
      ],
      "metadata": {
        "id": "zfJ8IqMcYoAp"
      }
    },
    {
      "cell_type": "markdown",
      "source": [
        "#### Chart - 4"
      ],
      "metadata": {
        "id": "4Of9eVA-YrdM"
      }
    },
    {
      "cell_type": "code",
      "source": [
        "# Chart - 4 visualization code\n",
        "# Latitude vs. Longitude in Scatter Plot.\n",
        "plt.figure(figsize=(10, 8))\n",
        "plt.scatter(airbnb_df['longitude'], airbnb_df['latitude'], alpha=0.6, c='b', edgecolors='k')\n",
        "plt.title('Latitude vs. Longitude')\n",
        "plt.xlabel('Longitude')\n",
        "plt.ylabel('Latitude')\n",
        "plt.grid(True)\n",
        "plt.show()\n"
      ],
      "metadata": {
        "id": "irlUoxc8YrdO"
      },
      "execution_count": null,
      "outputs": []
    },
    {
      "cell_type": "markdown",
      "source": [
        "##### 1. Why did you pick the specific chart?"
      ],
      "metadata": {
        "id": "iky9q4vBYrdO"
      }
    },
    {
      "cell_type": "markdown",
      "source": [
        "To plot the geographical locations of listings."
      ],
      "metadata": {
        "id": "aJRCwT6DYrdO"
      }
    },
    {
      "cell_type": "markdown",
      "source": [
        "##### 2. What is/are the insight(s) found from the chart?"
      ],
      "metadata": {
        "id": "F6T5p64dYrdO"
      }
    },
    {
      "cell_type": "markdown",
      "source": [
        "Visualize the spatial distribution of listings and identify patterns based on latitude and longitude."
      ],
      "metadata": {
        "id": "Xx8WAJvtYrdO"
      }
    },
    {
      "cell_type": "markdown",
      "source": [
        "##### 3. Will the gained insights help creating a positive business impact?\n",
        "Are there any insights that lead to negative growth? Justify with specific reason."
      ],
      "metadata": {
        "id": "y-Ehk30pYrdP"
      }
    },
    {
      "cell_type": "markdown",
      "source": [
        "The scatter plot of latitude vs. longitude does not directly provide insights for creating a positive business impact. Instead, it visualizes the geographic distribution of the Airbnb listings. However, by analyzing the scatter plot in combination with other data and factors, such as popular neighborhoods or proximity to attractions, hosts and businesses can gain insights that may contribute to a positive business impact. These insights can inform decisions related to targeting specific areas, optimizing marketing strategies, and identifying potential growth opportunities."
      ],
      "metadata": {
        "id": "jLNxxz7MYrdP"
      }
    },
    {
      "cell_type": "markdown",
      "source": [
        "#### Chart - 5"
      ],
      "metadata": {
        "id": "bamQiAODYuh1"
      }
    },
    {
      "cell_type": "code",
      "source": [
        "airbnb_df['neighbourhood_group'].value_counts()"
      ],
      "metadata": {
        "id": "t-ntcuSBm3a2"
      },
      "execution_count": null,
      "outputs": []
    },
    {
      "cell_type": "code",
      "source": [
        "# Chart - 5 visualization code\n",
        "#Box Plot - Price Distribution by Neighbourhood Group\n",
        "plt.figure(figsize=(10, 8))\n",
        "airbnb_df.boxplot(column='price', by='neighbourhood_group')\n",
        "plt.title('Price Distribution by Neighbourhood Group')\n",
        "plt.xlabel('Neighbourhood Group')\n",
        "plt.ylabel('Price')\n",
        "plt.xticks(rotation=45)\n",
        "plt.show()\n"
      ],
      "metadata": {
        "id": "TIJwrbroYuh3"
      },
      "execution_count": null,
      "outputs": []
    },
    {
      "cell_type": "markdown",
      "source": [
        "##### 1. Why did you pick the specific chart?"
      ],
      "metadata": {
        "id": "QHF8YVU7Yuh3"
      }
    },
    {
      "cell_type": "markdown",
      "source": [
        "Comparing the price distributions across the different Nrighbourhood Group"
      ],
      "metadata": {
        "id": "dcxuIMRPYuh3"
      }
    },
    {
      "cell_type": "markdown",
      "source": [
        "##### 2. What is/are the insight(s) found from the chart?"
      ],
      "metadata": {
        "id": "GwzvFGzlYuh3"
      }
    },
    {
      "cell_type": "markdown",
      "source": [
        "variations in prices between neighbourhood groups.\n",
        "\n"
      ],
      "metadata": {
        "id": "uyqkiB8YYuh3"
      }
    },
    {
      "cell_type": "markdown",
      "source": [
        "##### 3. Will the gained insights help creating a positive business impact?\n",
        "Are there any insights that lead to negative growth? Justify with specific reason."
      ],
      "metadata": {
        "id": "qYpmQ266Yuh3"
      }
    },
    {
      "cell_type": "markdown",
      "source": [
        "Insights from the box plot of price distribution by neighborhood group show variations in prices across different areas. Manhattan and Brooklyn have the highest number of listings, indicating potential positive business impact. However, the presence of higher-priced listings in Manhattan may lead to negative growth for budget-conscious travelers in that area."
      ],
      "metadata": {
        "id": "_WtzZ_hCYuh4"
      }
    },
    {
      "cell_type": "markdown",
      "source": [
        "#### Chart - 6"
      ],
      "metadata": {
        "id": "OH-pJp9IphqM"
      }
    },
    {
      "cell_type": "code",
      "source": [
        "# Chart - 6 visualization code\n",
        "\n",
        "# creating line chat - Num of reviews over time\n",
        "plt.figure(figsize=(10, 6))\n",
        "airbnb_df.groupby('last_review')['number_of_reviews'].sum().plot(kind='line')\n",
        "plt.title('No. of Reviews over time')\n",
        "plt.xlabel('last reviews data')\n",
        "plt.ylabel('No. of reviews')\n",
        "plt.show()"
      ],
      "metadata": {
        "id": "kuRf4wtuphqN"
      },
      "execution_count": null,
      "outputs": []
    },
    {
      "cell_type": "markdown",
      "source": [
        "##### 1. Why did you pick the specific chart?"
      ],
      "metadata": {
        "id": "bbFf2-_FphqN"
      }
    },
    {
      "cell_type": "markdown",
      "source": [
        "To track the cumulative number of reviews over time"
      ],
      "metadata": {
        "id": "loh7H2nzphqN"
      }
    },
    {
      "cell_type": "markdown",
      "source": [
        "##### 2. What is/are the insight(s) found from the chart?"
      ],
      "metadata": {
        "id": "_ouA3fa0phqN"
      }
    },
    {
      "cell_type": "markdown",
      "source": [
        "Analyze trends in review activity and assess the popularity of listings over different periods."
      ],
      "metadata": {
        "id": "VECbqPI7phqN"
      }
    },
    {
      "cell_type": "markdown",
      "source": [
        "##### 3. Will the gained insights help creating a positive business impact?\n",
        "Are there any insights that lead to negative growth? Justify with specific reason."
      ],
      "metadata": {
        "id": "Seke61FWphqN"
      }
    },
    {
      "cell_type": "markdown",
      "source": [
        "Yes, The provided insights from the groupby operation on the \"last_review\" column, summing the \"number_of_reviews,\" reflect the cumulative reviews for each date"
      ],
      "metadata": {
        "id": "DW4_bGpfphqN"
      }
    },
    {
      "cell_type": "markdown",
      "source": [
        "#### Chart - 7"
      ],
      "metadata": {
        "id": "PIIx-8_IphqN"
      }
    },
    {
      "cell_type": "code",
      "source": [
        "# Chart - 7 visualization code\n",
        "#tacked Bar Chart - Neighbourhood Group Distribution by Room Type\n",
        "plt.figure(figsize=(10, 8))\n",
        "pd.crosstab(airbnb_df['neighbourhood_group'], airbnb_df['room_type']).plot(kind='bar', stacked=True)\n",
        "plt.title('Neighbourhood Group Distribution by Room Type')\n",
        "plt.xlabel('Neighbourhood Group')\n",
        "plt.ylabel('Count')\n",
        "plt.show()\n"
      ],
      "metadata": {
        "id": "lqAIGUfyphqO"
      },
      "execution_count": null,
      "outputs": []
    },
    {
      "cell_type": "markdown",
      "source": [
        "##### 1. Why did you pick the specific chart?"
      ],
      "metadata": {
        "id": "t27r6nlMphqO"
      }
    },
    {
      "cell_type": "markdown",
      "source": [
        "To visualize the distribution of room types within each neighbourhood group."
      ],
      "metadata": {
        "id": "iv6ro40sphqO"
      }
    },
    {
      "cell_type": "markdown",
      "source": [
        "##### 2. What is/are the insight(s) found from the chart?"
      ],
      "metadata": {
        "id": "r2jJGEOYphqO"
      }
    },
    {
      "cell_type": "markdown",
      "source": [
        "Identify the predominant room types in different neighbourhood groups, enabling targeted marketing or investment decisions."
      ],
      "metadata": {
        "id": "Po6ZPi4hphqO"
      }
    },
    {
      "cell_type": "markdown",
      "source": [
        "##### 3. Will the gained insights help creating a positive business impact?\n",
        "Are there any insights that lead to negative growth? Justify with specific reason."
      ],
      "metadata": {
        "id": "b0JNsNcRphqO"
      }
    },
    {
      "cell_type": "markdown",
      "source": [
        "The gained insights from the stacked bar chart of room type distribution by neighborhood group can contribute to a positive business impact. It helps identify popular room types in each neighborhood, enabling hosts to align their offerings with demand"
      ],
      "metadata": {
        "id": "xvSq8iUTphqO"
      }
    },
    {
      "cell_type": "markdown",
      "source": [
        "#### Chart - 8"
      ],
      "metadata": {
        "id": "BZR9WyysphqO"
      }
    },
    {
      "cell_type": "code",
      "source": [
        "# Chart - 8 visualization code\n",
        "#Violin Plot - Price Distribution by Neighbourhood Group and Room Type:\n",
        "plt.figure(figsize=(10, 8))\n",
        "sns.violinplot(data=airbnb_df, x='neighbourhood_group', y='price', hue='room_type')\n",
        "plt.title('Price Distribution by Neighbourhood Group and Room Type')\n",
        "plt.xlabel('Neighbourhood Group')\n",
        "plt.ylabel('Price')\n",
        "plt.show()"
      ],
      "metadata": {
        "id": "TdPTWpAVphqO"
      },
      "execution_count": null,
      "outputs": []
    },
    {
      "cell_type": "markdown",
      "source": [
        "##### 1. Why did you pick the specific chart?"
      ],
      "metadata": {
        "id": "jj7wYXLtphqO"
      }
    },
    {
      "cell_type": "markdown",
      "source": [
        "To compare the price distributions across neighbourhood groups and room types simultaneously."
      ],
      "metadata": {
        "id": "Ob8u6rCTphqO"
      }
    },
    {
      "cell_type": "markdown",
      "source": [
        "##### 2. What is/are the insight(s) found from the chart?"
      ],
      "metadata": {
        "id": "eZrbJ2SmphqO"
      }
    },
    {
      "cell_type": "markdown",
      "source": [
        "Assess the price ranges and variations within neighbourhood groups and room types, identifying potential pricing strategies."
      ],
      "metadata": {
        "id": "mZtgC_hjphqO"
      }
    },
    {
      "cell_type": "markdown",
      "source": [
        "##### 3. Will the gained insights help creating a positive business impact?\n",
        "Are there any insights that lead to negative growth? Justify with specific reason."
      ],
      "metadata": {
        "id": "rFu4xreNphqO"
      }
    },
    {
      "cell_type": "markdown",
      "source": [
        "Yes,gained insights from the violin plot of price distribution by neighborhood group and room type can support creating a positive business impact. It helps identify price ranges that are popular in each neighborhood and for each room type, allowing hosts to optimize pricing strategies. However, if there are limited bookings or high prices in certain room types or neighborhoods, it may result in negative growth due to decreased demand or affordability concerns."
      ],
      "metadata": {
        "id": "ey_0qi68phqO"
      }
    },
    {
      "cell_type": "markdown",
      "source": [
        "#### Chart - 9"
      ],
      "metadata": {
        "id": "YJ55k-q6phqO"
      }
    },
    {
      "cell_type": "code",
      "source": [
        "# Chart - 9 visualization\n",
        "#Scatter Plot - Minimum Nights vs. Price:\n",
        "plt.figure(figsize=(10, 8))\n",
        "airbnb_df.plot(kind='scatter', x='minimum_nights', y='price')\n",
        "plt.title('Minimun Nights vs. Price')\n",
        "plt.xlabel(\"Minimum Nights\")\n",
        "plt.ylabel('Price')\n",
        "plt.show()"
      ],
      "metadata": {
        "id": "B2aS4O1ophqO"
      },
      "execution_count": null,
      "outputs": []
    },
    {
      "cell_type": "markdown",
      "source": [
        "##### 1. Why did you pick the specific chart?"
      ],
      "metadata": {
        "id": "gCFgpxoyphqP"
      }
    },
    {
      "cell_type": "markdown",
      "source": [
        " To analyze the relationship between the minimum number of nights and the listing price."
      ],
      "metadata": {
        "id": "TVxDimi2phqP"
      }
    },
    {
      "cell_type": "markdown",
      "source": [
        "##### 2. What is/are the insight(s) found from the chart?"
      ],
      "metadata": {
        "id": "OVtJsKN_phqQ"
      }
    },
    {
      "cell_type": "markdown",
      "source": [
        "Assess whether longer minimum stay requirements correlate with higher or lower prices, helping in setting minimum night policies or pricing strategies.\n",
        "\n"
      ],
      "metadata": {
        "id": "ngGi97qjphqQ"
      }
    },
    {
      "cell_type": "markdown",
      "source": [
        "##### 3. Will the gained insights help creating a positive business impact?\n",
        "Are there any insights that lead to negative growth? Justify with specific reason."
      ],
      "metadata": {
        "id": "lssrdh5qphqQ"
      }
    },
    {
      "cell_type": "markdown",
      "source": [
        " There is a possibility of negative growth if there is a strong negative correlation between minimum nights and price. If higher prices are associated with longer minimum night requirements, it may deter potential guests, especially those seeking shorter stays. This can lead to a decrease in bookings and potential negative impact on business growth. Hosts should carefully consider the balance between price and minimum night requirements to avoid potential negative consequences."
      ],
      "metadata": {
        "id": "tBpY5ekJphqQ"
      }
    },
    {
      "cell_type": "markdown",
      "source": [
        "#### Chart - 10"
      ],
      "metadata": {
        "id": "U2RJ9gkRphqQ"
      }
    },
    {
      "cell_type": "code",
      "source": [
        "# Chart - 10 visualization\n",
        "#Scatter Plot - Number of Reviews vs. Reviews per Month:\n",
        "plt.figure(figsize=(10, 8))\n",
        "plt.scatter(airbnb_df['number_of_reviews'], airbnb_df['reviews_per_month'], alpha=0.5, color='blue')\n",
        "plt.title('Number of Reviews vs. Reviews per Month')\n",
        "plt.xlabel('Number of Reviews')\n",
        "plt.ylabel('Reviews per Month')\n",
        "plt.grid(True)\n",
        "plt.legend(['Data points'])\n",
        "plt.tight_layout()\n",
        "plt.show()"
      ],
      "metadata": {
        "id": "GM7a4YP4phqQ"
      },
      "execution_count": null,
      "outputs": []
    },
    {
      "cell_type": "markdown",
      "source": [
        "##### 1. Why did you pick the specific chart?"
      ],
      "metadata": {
        "id": "1M8mcRywphqQ"
      }
    },
    {
      "cell_type": "markdown",
      "source": [
        "To explore the relationship between the total number of reviews and the average number of reviews per month\n",
        "\n",
        "> Indented block\n",
        "\n"
      ],
      "metadata": {
        "id": "8agQvks0phqQ"
      }
    },
    {
      "cell_type": "markdown",
      "source": [
        "##### 2. What is/are the insight(s) found from the chart?"
      ],
      "metadata": {
        "id": "tgIPom80phqQ"
      }
    },
    {
      "cell_type": "markdown",
      "source": [
        "Answer Here"
      ],
      "metadata": {
        "id": "Qp13pnNzphqQ"
      }
    },
    {
      "cell_type": "markdown",
      "source": [
        "##### 3. Will the gained insights help creating a positive business impact?\n",
        "Are there any insights that lead to negative growth? Justify with specific reason."
      ],
      "metadata": {
        "id": "JMzcOPDDphqR"
      }
    },
    {
      "cell_type": "markdown",
      "source": [
        "The insights from the data suggest that higher number_of_reviews and reviews_per_month can create a positive business impact by attracting more bookings and indicating guest satisfaction. However, lower values may lead to negative growth, indicating lower guest engagement and potential dissatisfaction."
      ],
      "metadata": {
        "id": "R4Ka1PC2phqR"
      }
    },
    {
      "cell_type": "markdown",
      "source": [
        "#### Chart - 11"
      ],
      "metadata": {
        "id": "x-EpHcCOp1ci"
      }
    },
    {
      "cell_type": "code",
      "source": [
        "# Chart - 11 visualization code\n",
        "neighbourhood_prices = airbnb_df.groupby('neighbourhood')['price'].mean().sort_values()\n",
        "\n",
        "#line chat - avg. price by neighbourhood\n",
        "plt.figure(figsize = (12, 6))\n",
        "neighbourhood_prices.plot(kind='line', marker='o', linestyle='-', color='blue')\n",
        "plt.title(\"Average price of listings by Neighbourhood\")\n",
        "plt.xlabel('Neighbourhood')\n",
        "plt.ylabel('Average price')\n",
        "plt.xticks(rotation=45)\n",
        "plt.grid(True)\n",
        "plt.tight_layout()\n",
        "plt.show()"
      ],
      "metadata": {
        "id": "mAQTIvtqp1cj"
      },
      "execution_count": null,
      "outputs": []
    },
    {
      "cell_type": "markdown",
      "source": [
        "##### 1. Why did you pick the specific chart?"
      ],
      "metadata": {
        "id": "X_VqEhTip1ck"
      }
    },
    {
      "cell_type": "markdown",
      "source": [
        "To compare the average prices across different neighbourhoods."
      ],
      "metadata": {
        "id": "-vsMzt_np1ck"
      }
    },
    {
      "cell_type": "markdown",
      "source": [],
      "metadata": {
        "id": "OS3PVM-OtLH3"
      }
    },
    {
      "cell_type": "markdown",
      "source": [
        "##### 2. What is/are the insight(s) found from the chart?"
      ],
      "metadata": {
        "id": "8zGJKyg5p1ck"
      }
    },
    {
      "cell_type": "markdown",
      "source": [
        "Identify neighbourhoods with higher or lower average prices, helping in market analysis or property investment decisions.\n"
      ],
      "metadata": {
        "id": "ZYdMsrqVp1ck"
      }
    },
    {
      "cell_type": "markdown",
      "source": [
        "##### 3. Will the gained insights help creating a positive business impact?\n",
        "Are there any insights that lead to negative growth? Justify with specific reason."
      ],
      "metadata": {
        "id": "PVzmfK_Ep1ck"
      }
    },
    {
      "cell_type": "markdown",
      "source": [
        "The gained insights from the average price of listings in different neighborhoods can help create a positive business impact. Lower average prices in some neighborhoods like Bull's Head and Hunts Point may attract budget-conscious travelers and increase bookings. However, higher average prices in neighborhoods like Tribeca and Fort Wadsworth may limit the target audience and potentially lead to negative growth if demand is insufficient."
      ],
      "metadata": {
        "id": "druuKYZpp1ck"
      }
    },
    {
      "cell_type": "markdown",
      "source": [
        "#### Chart - 12"
      ],
      "metadata": {
        "id": "n3dbpmDWp1ck"
      }
    },
    {
      "cell_type": "code",
      "source": [
        "# Chart - 12 visualization\n",
        "#Box Plot - Price Distribution by Room Type and Neighbourhood Group\n",
        "plt.figure(figsize=(10, 8))\n",
        "sns.boxplot(data=airbnb_df, x='room_type', y='price', hue='neighbourhood_group')\n",
        "plt.title('Price Distribution by Room Type and Neighbourhood Group')\n",
        "plt.xlabel('Room Type')\n",
        "plt.ylabel('Price')\n",
        "plt.xticks(rotation=45)\n",
        "plt.legend(title='Neighbourhood Group')\n",
        "plt.show()"
      ],
      "metadata": {
        "id": "bwevp1tKp1ck"
      },
      "execution_count": null,
      "outputs": []
    },
    {
      "cell_type": "markdown",
      "source": [
        "##### 1. Why did you pick the specific chart?"
      ],
      "metadata": {
        "id": "ylSl6qgtp1ck"
      }
    },
    {
      "cell_type": "markdown",
      "source": [
        "To visualize the price distributions based on both room type and neighbourhood group."
      ],
      "metadata": {
        "id": "m2xqNkiQp1ck"
      }
    },
    {
      "cell_type": "markdown",
      "source": [
        "##### 2. What is/are the insight(s) found from the chart?"
      ],
      "metadata": {
        "id": "ZWILFDl5p1ck"
      }
    },
    {
      "cell_type": "markdown",
      "source": [
        "Assess price variations across room types and neighbourhood groups simultaneously, informing pricing strategies or investment decisions.\n"
      ],
      "metadata": {
        "id": "x-lUsV2mp1ck"
      }
    },
    {
      "cell_type": "markdown",
      "source": [
        "##### 3. Will the gained insights help creating a positive business impact?\n",
        "Are there any insights that lead to negative growth? Justify with specific reason."
      ],
      "metadata": {
        "id": "M7G43BXep1ck"
      }
    },
    {
      "cell_type": "markdown",
      "source": [
        "yes,he gained insights help creating a positive business impact"
      ],
      "metadata": {
        "id": "5wwDJXsLp1cl"
      }
    },
    {
      "cell_type": "markdown",
      "source": [
        "#### Chart - 13"
      ],
      "metadata": {
        "id": "Ag9LCva-p1cl"
      }
    },
    {
      "cell_type": "code",
      "source": [
        "# Chart - 13 visualization\n",
        "#Bar Chart - Number of Listings by Neighbourhood:\n",
        "plt.figure(figsize=(10, 8))\n",
        "airbnb_df['neighbourhood'].value_counts().nlargest(10).plot(kind='bar')\n",
        "plt.title('Top 10 Neighbourhoods with Highest Listing Counts')\n",
        "plt.xlabel('Neighbourhood')\n",
        "plt.ylabel('Listing Count')\n",
        "plt.xticks(rotation=45)\n",
        "plt.show()"
      ],
      "metadata": {
        "id": "EUfxeq9-p1cl"
      },
      "execution_count": null,
      "outputs": []
    },
    {
      "cell_type": "markdown",
      "source": [
        "##### 1. Why did you pick the specific chart?"
      ],
      "metadata": {
        "id": "E6MkPsBcp1cl"
      }
    },
    {
      "cell_type": "markdown",
      "source": [
        "To identify the top 10 neighbourhoods with the highest number of listings."
      ],
      "metadata": {
        "id": "V22bRsFWp1cl"
      }
    },
    {
      "cell_type": "markdown",
      "source": [
        "##### 2. What is/are the insight(s) found from the chart?"
      ],
      "metadata": {
        "id": "2cELzS2fp1cl"
      }
    },
    {
      "cell_type": "markdown",
      "source": [
        " Recognize popular neighbourhoods with a large number of listings, guiding marketing efforts or investment decisions.\n"
      ],
      "metadata": {
        "id": "ozQPc2_Ip1cl"
      }
    },
    {
      "cell_type": "markdown",
      "source": [
        "##### 3. Will the gained insights help creating a positive business impact?\n",
        "Are there any insights that lead to negative growth? Justify with specific reason."
      ],
      "metadata": {
        "id": "3MPXvC8up1cl"
      }
    },
    {
      "cell_type": "markdown",
      "source": [
        "The insights gained from the top 10 neighbourhoods with the highest listing counts can potentially create a positive business impact. These neighbourhoods, such as Williamsburg, Bedford-Stuyvesant, and Harlem, have a high demand for Airbnb accommodations, indicating a potential market opportunity. However, without further analysis, it is difficult to determine if there are any specific insights that could lead to negative growth."
      ],
      "metadata": {
        "id": "GL8l1tdLp1cl"
      }
    },
    {
      "cell_type": "markdown",
      "source": [
        "#### Chart - 14 - Correlation Heatmap"
      ],
      "metadata": {
        "id": "NC_X3p0fY2L0"
      }
    },
    {
      "cell_type": "code",
      "source": [
        "# Correlation Heatmap visualization code\n",
        "plt.figure(figsize=(10, 8))\n",
        "sns.heatmap(airbnb_df.corr(), annot=True, cmap=\"coolwarm\", linewidths=0.5)\n",
        "plt.title(\"Correlation Matrix\")\n",
        "plt.show()"
      ],
      "metadata": {
        "id": "xyC9zolEZNRQ"
      },
      "execution_count": null,
      "outputs": []
    },
    {
      "cell_type": "markdown",
      "source": [
        "##### 1. Why did you pick the specific chart?"
      ],
      "metadata": {
        "id": "UV0SzAkaZNRQ"
      }
    },
    {
      "cell_type": "markdown",
      "source": [
        "The Question said to pick this specific chart. but,\n",
        "Visualizing correlation matrices through heatmaps is a popular method for exploring variable relationships. Key reasons for using this technique include:\n",
        "\n",
        "1. **Easy Interpretation:** Heatmaps use color gradients to visually represent correlation values, making it easy to interpret relationships—darker shades for strong positive correlations and lighter shades for strong negative correlations.\n",
        "\n",
        "2. **Comprehensive Overview:** The heatmap provides a quick, comprehensive view of overall patterns in variable associations, allowing the identification of correlated clusters or weak/no correlations.\n",
        "\n",
        "3. **Identifying Relationships:** Heatmaps reveal relationships not immediately apparent in numerical values alone, aiding in the identification of strong positive/negative correlations for further analysis or decision-making.\n",
        "\n",
        "4. **Feature Selection:** Useful for feature selection by identifying highly correlated variables with the target, helping improve model performance and interpretability by choosing less correlated variables.\n",
        "\n",
        "5. **Data Preprocessing:** Assists in detecting multicollinearity by highlighting high correlations between variables, guiding feature engineering or data preprocessing to address potential impacts on model performance and interpretation.\n",
        "\n",
        "In summary, the correlation matrix heatmap is a potent visualization tool for understanding variable relationships, uncovering patterns, and making informed decisions in data analysis."
      ],
      "metadata": {
        "id": "DVPuT8LYZNRQ"
      }
    },
    {
      "cell_type": "markdown",
      "source": [
        "##### 2. What is/are the insight(s) found from the chart?"
      ],
      "metadata": {
        "id": "YPEH6qLeZNRQ"
      }
    },
    {
      "cell_type": "markdown",
      "source": [
        "The insights from `airbnb_df` Correlation Matrix:\n",
        "\n",
        "1. **Price:**\n",
        "   - Negative correlation (-0.150019) with 'longitude,' suggesting prices decrease slightly as longitude coordinates increase.\n",
        "   - Positive correlation (0.042799) with 'minimum_nights,' indicating higher prices associated with longer minimum stay requirements.\n",
        "\n",
        "2. **Number of Reviews:**\n",
        "   - Negative correlation (-0.319760) with 'id,' suggesting listings with higher IDs have fewer reviews, potentially due to newer listings.\n",
        "   - Positive correlation (0.549868) with 'reviews_per_month,' showing listings with more reviews tend to have higher monthly review rates.\n",
        "\n",
        "3. **Calculated Host Listings Count:**\n",
        "   - Positive correlation (0.133272) with 'id,' indicating hosts with more listings have higher host IDs.\n",
        "   - Positive correlation (0.127960) with 'minimum_nights,' suggesting hosts with more listings may have longer minimum stay requirements.\n",
        "\n",
        "These insights offer valuable understanding of relationships within the `airbnb_df` dataset, providing insights into pricing factors, review dynamics, and host characteristics."
      ],
      "metadata": {
        "id": "bfSqtnDqZNRR"
      }
    },
    {
      "cell_type": "markdown",
      "source": [
        "#### Chart - 15 - Pair Plot"
      ],
      "metadata": {
        "id": "q29F0dvdveiT"
      }
    },
    {
      "cell_type": "code",
      "source": [
        "# Pair Plot visualization code\n",
        "# Select the columns for the pair plot\n",
        "columns = ['price', 'minimum_nights', 'number_of_reviews', 'reviews_per_month', 'calculated_host_listings_count']\n",
        "\n",
        "sns.pairplot(airbnb_df[columns])\n"
      ],
      "metadata": {
        "id": "o58-TEIhveiU"
      },
      "execution_count": null,
      "outputs": []
    },
    {
      "cell_type": "markdown",
      "source": [
        "##### 1. Why did you pick the specific chart?"
      ],
      "metadata": {
        "id": "EXh0U9oCveiU"
      }
    },
    {
      "cell_type": "markdown",
      "source": [
        "1. **Scatter Plots:**\n",
        "   - **Price and Longitude:** Indicates a potential negative correlation, suggesting a slight decrease in price as longitude coordinates increase.\n",
        "   - **Price and Minimum Nights:** Shows a scatter with no clear pattern, suggesting a weak correlation between price and minimum nights.\n",
        "   - **Number of Reviews and ID:** Displays a negative correlation, indicating that listings with higher IDs tend to have fewer reviews.\n",
        "   - **Number of Reviews and Reviews Per Month:** Shows a positive correlation, suggesting listings with more reviews also have higher monthly review rates.\n",
        "   - **Calculated Host Listings Count and ID:** Indicates a positive correlation, suggesting hosts with more listings have higher host IDs.\n",
        "   - **Calculated Host Listings Count and Minimum Nights:** Displays a scatter with no clear pattern, suggesting a weak correlation between host listings count and minimum nights.\n",
        "\n",
        "2. **Diagonal Histograms:**\n",
        "   - **Price:** Histogram provides insights into the distribution of prices, helping identify patterns or outliers.\n",
        "   - **Minimum Nights:** Histogram shows the distribution of minimum nights, aiding in understanding the typical stay requirements.\n",
        "   - **Number of Reviews:** Histogram illustrates the distribution of review counts, offering insights into the popularity of listings.\n",
        "   - **Reviews Per Month:** Histogram provides information on the distribution of review rates over months.\n",
        "   - **Calculated Host Listings Count:** Histogram shows the distribution of the number of listings per host.\n",
        "\n",
        "3. **Correlation:**\n",
        "   - **Observation of Scatter Plots:** Positive and negative slopes in scatter plots indicate the direction and strength of correlation between variables.\n",
        "   - **No Clear Pattern:** Scatter plots with no distinct pattern suggest no significant correlation between the plotted variables.\n",
        "\n",
        "The pair plot serves as a comprehensive visualization tool, offering insights into variable relationships, distributions, and potential correlations within the dataset."
      ],
      "metadata": {
        "id": "eMmPjTByveiU"
      }
    },
    {
      "cell_type": "markdown",
      "source": [
        "##### 2. What is/are the insight(s) found from the chart?"
      ],
      "metadata": {
        "id": "22aHeOlLveiV"
      }
    },
    {
      "cell_type": "markdown",
      "source": [
        "The insights gained from the pair plot provide valuable information for data-driven decision-making. Understanding variable relationships, patterns, and correlations is crucial for identifying influential factors, exploring opportunities, and making informed business decisions. This knowledge enables strategic planning and performance evaluation, helping businesses optimize operations and capitalize on areas for improvement."
      ],
      "metadata": {
        "id": "uPQ8RGwHveiV"
      }
    },
    {
      "cell_type": "markdown",
      "source": [
        "## **5. Solution to Business Objective**"
      ],
      "metadata": {
        "id": "JcMwzZxoAimU"
      }
    },
    {
      "cell_type": "markdown",
      "source": [
        "#### What do you suggest the client to achieve Business Objective ?\n",
        "Explain Briefly."
      ],
      "metadata": {
        "id": "8G2x9gOozGDZ"
      }
    },
    {
      "cell_type": "markdown",
      "source": [
        "1. **Optimize Pricing Strategy:**\n",
        "   - Identify overpriced listings and adjust to enhance competitiveness.\n",
        "   - Address limited availability in affordable ranges through incentives or discounts.\n",
        "\n",
        "2. **Focus on Popular Neighbourhoods:**\n",
        "   - Prioritize marketing efforts on Manhattan and Brooklyn.\n",
        "   - Highlight unique features of these neighbourhoods to attract potential guests.\n",
        "\n",
        "3. **Understand Room Type Preferences:**\n",
        "   - Focus on entire home/apartment and private room listings.\n",
        "   - Implement competitive pricing and enhance listing features for these room types.\n",
        "\n",
        "4. **Analyze Review Trends:**\n",
        "   - Monitor review sentiment to identify areas for improvement.\n",
        "   - Encourage proactive review collection to enhance overall reputation.\n",
        "\n",
        "5. **Price Distribution by Neighbourhood Group and Room Type:**\n",
        "   - Set competitive prices based on trends in each neighbourhood and room type.\n",
        "   - Differentiate pricing based on demand, adjusting according to market conditions.\n",
        "\n",
        "These solutions align with business objectives, ensuring effective pricing, targeting popular areas, focusing on preferred accommodations, understanding guest satisfaction, and adapting pricing to market trends. Continuous monitoring and analysis are essential for ongoing refinement and adaptation to changing conditions."
      ],
      "metadata": {
        "id": "pASKb0qOza21"
      }
    },
    {
      "cell_type": "markdown",
      "source": [
        "# **Conclusion**"
      ],
      "metadata": {
        "id": "gCX9965dhzqZ"
      }
    },
    {
      "cell_type": "markdown",
      "source": [
        "1. **Neighbourhood Distribution:**\n",
        "   - Concentration of listings in Manhattan and Brooklyn.\n",
        "   - Opportunity for client to focus efforts and resources on these popular neighbourhoods.\n",
        "\n",
        "2. **Room Type Preferences:**\n",
        "   - Majority of listings are entire home/apartment and private room.\n",
        "   - Emphasizes the importance of catering to preferences for these room types.\n",
        "\n",
        "3. **Pricing Strategy:**\n",
        "   - Identification of overpriced listings and limited availability in affordable ranges.\n",
        "   - Opportunity for client to adjust pricing, address overpricing, and introduce promotions to boost bookings.\n",
        "\n",
        "4. **Review Trends:**\n",
        "   - Analysis of reviews and last review dates for gauging guest satisfaction.\n",
        "   - Emphasis on continuous monitoring, addressing negative feedback, and enhancing overall guest experiences.\n",
        "\n",
        "5. **Price Distribution by Neighbourhood Group and Room Type:**\n",
        "   - Insights from violin plot to guide competitive pricing.\n",
        "   - Aligning prices with market trends for specific neighbourhoods and room types to optimize revenue.\n",
        "\n",
        "In conclusion, the EDA provides actionable insights for the client to enhance business operations, improve customer experiences, and gain a competitive edge in the Airbnb market. Continued monitoring and adaptation of strategies are essential for ongoing success."
      ],
      "metadata": {
        "id": "Fjb1IsQkh3yE"
      }
    },
    {
      "cell_type": "markdown",
      "source": [
        "### ***Hurrah! You have successfully completed your EDA Capstone Project !!!***"
      ],
      "metadata": {
        "id": "gIfDvo9L0UH2"
      }
    }
  ]
}